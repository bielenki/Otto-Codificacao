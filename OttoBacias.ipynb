{
 "cells": [
  {
   "cell_type": "markdown",
   "metadata": {},
   "source": [
    "# Codificação de Bacias Hidrográficas de Otto Pfafstetter\n",
    "\n",
    "# Texto extraído da wikipédia em 22/11/2019\n",
    "\n",
    "Trata-se de um método hierárquico de codificação de bacias hidrográficas desenvolvido pelo engenheiro brasileiro Otto Pfafstetter. Suas principais vantagens são:\n",
    "\n",
    "* Economia de dígitos;\n",
    "* Topologia da rede hidrográfica embutida nos códigos;\n",
    "* Escalável;\n",
    "* Passível de automatização em computador;\n",
    "* Compatível com ambiente de Sistemas de Informações Geográficas (SIGs);\n",
    "\n",
    "O método de Otto Pfafstetter foi primeiramente proposto por ele como forma de identificar univocamente as principais bacias do Brasil e assim organizar os arquivos de projetos do DNOS – Departamento Nacional de Obras de Saneamento. Ganhou importância 20 anos depois ao atrair a atenção do Programa Nacional de Irrigação – PRONI que buscava, à época, organizar o Cadastro dos Sistemas de Irrigação do Brasil. Em 1989 Pfafstetter escreveu o artigo, que, embora não publicado, tornou-se referência, no qual ele descreve seu método, aplicando-o às bacias da América do Sul.\n",
    "\n",
    "No final dos anos 1990, os pesquisadores norte-americanos James e Kristine Verdin vieram ao Brasil e tomaram contato com o método que lhes chamou muito a atenção pela simplicidade e flexibilidade. James e Kistine Verdin, do United States Geological Survey – USGS, traduzem o artigo de Pfafstetter para o inglês e aplicam o método no projeto HYDRO1K, o qual consistia em uma base de dados hidrográficos em âmbito global com todos os temas de modelagem hidrológica (direção de fluxo, fluxo acumulado, hidrografia sintética, áreas de contribuição, etc.) derivados do modelo de elevação GTOPO30, com pixel de aproximadamente 1km.\n",
    "\n",
    "Para aplicar o método de Otto Pfafstetter é necessário inicialmente verificar se existe uma codificação de referência na região, como é o caso do Brasil, Estados Unidos, Peru, Austrália, União Europeia, entre outros. Neste caso deve-se tomar o código da bacia a ser codificada como ponto de partida. No exemplo a seguir esse código de partida é chamado de R. No Brasil, a referência é a Base de domínios da Agência Nacional de Águas – ANA denominada BHO-2012, disponível no Portal de Metadados da Agência.\n",
    "\n",
    "Após verificar se existe um código de partida R, deve-se determinar o curso d’água principal da bacia a ser codificada. Essa determinação consiste em partir da foz da bacia e decidir, a cada confluência, qual o trecho de maior área de contribuição. Repetindo-se esse processo a cada confluência, vai-se agregando os trechos de maior área de drenagem ao curso d’água principal até o trecho mais a montante. O rio destacado em vermelho na Figura abaixo é o resultado desse primeiro passo.\n",
    "\n",
    "!![fig1](https://github.com/bielenki/Otto-Codificacao/blob/master/Fig/fig1.jpg?raw=true)\n",
    "\n",
    "Tomando o curso d’água principal como referência, determinam-se os quatro tributários com as maiores áreas de drenagem, representados em preto na Figura abaixo. De jusante para montante, acrescentam-se os códigos 2, 4, 6 e 8 ao final do R para essas quatro maiores bacias.\n",
    "\n",
    "![fig2](https://github.com/bielenki/Otto-Codificacao/blob/master/Fig/fig2.jpg?raw=true)\n",
    "\n",
    "As áreas restantes contribuem diretamente para o curso d’água principal e são denominadas interbacias. Os quatro tributários principais dividem o rio em cinco trechos. As áreas de contribuição de cada um desses trechos (ou interbacias) recebem então os dígitos ímpares 1, 3, 5, 7, e 9, conforme ilustra a Figura abaixo.\n",
    "\n",
    "![fig3](https://github.com/bielenki/Otto-Codificacao/blob/master/Fig/fig3.jpg?raw=true)\n",
    "\n",
    "Note-se que, ao contrário das bacias (propriamente ditas), que possuem certa uniformidade nos seus tamanhos, as interbacias possuem tamanhos amplamente variáveis. Na escala da Figura acima, a interbacia R5 é praticamente invisível. Isso ocorre porque, segundo a lógica da codificação de Otto, o tamanho das interbacias é proporcional à distância entre os tributários que a limitam. No presente caso, uma vez que as barras dos tributários R4 e R6 são muito próximas, a interbacia R5 reduz-se a uma área diminuta.\n",
    "\n",
    "\n",
    "Substituindo o código R pelo código de referência da bacia - neste caso, na BHO-2012 o código é 454 - teríamos nesse nível de detalhe a configuração de códigos de 4541 a 4549. Uma vez que os códigos possuem 4 dígitos, essa codificação é dita de nível 4, como na figura abaixo. Cada uma dessas sub-bacias deve ser codificada seguindo os mesmos procedimentos, agregando-se dígitos ao final do código até que não haja mais trechos a codificar.\n",
    "\n",
    "![fig4](https://github.com/bielenki/Otto-Codificacao/blob/master/Fig/fig4.jpg?raw=true)"
   ]
  }
 ],
 "metadata": {
  "kernelspec": {
   "display_name": "Python 2",
   "language": "python",
   "name": "python2"
  },
  "language_info": {
   "codemirror_mode": {
    "name": "ipython",
    "version": 2
   },
   "file_extension": ".py",
   "mimetype": "text/x-python",
   "name": "python",
   "nbconvert_exporter": "python",
   "pygments_lexer": "ipython2",
   "version": "2.7.14"
  }
 },
 "nbformat": 4,
 "nbformat_minor": 2
}
